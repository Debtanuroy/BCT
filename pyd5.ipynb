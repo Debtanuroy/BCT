{
 "cells": [
  {
   "cell_type": "code",
   "execution_count": 1,
   "metadata": {},
   "outputs": [
    {
     "name": "stdout",
     "output_type": "stream",
     "text": [
      "Before swap:  5 ,  10\n",
      "After swap:  10 ,  5\n"
     ]
    }
   ],
   "source": [
    "a=5\n",
    "b=10\n",
    "print(\"Before swap: \",a,\", \",b)\n",
    "c=a\n",
    "a=b\n",
    "b=c\n",
    "print(\"After swap: \",a,\", \",b)"
   ]
  },
  {
   "cell_type": "code",
   "execution_count": 2,
   "metadata": {},
   "outputs": [
    {
     "name": "stdout",
     "output_type": "stream",
     "text": [
      "Before swap:  5 ,  10\n",
      "After swap:  10 ,  5\n"
     ]
    }
   ],
   "source": [
    "a=5\n",
    "b=10\n",
    "print(\"Before swap: \",a,\", \",b)\n",
    "a=a+b\n",
    "b=a-b\n",
    "a=a-b\n",
    "print(\"After swap: \",a,\", \",b)"
   ]
  },
  {
   "cell_type": "code",
   "execution_count": 5,
   "metadata": {},
   "outputs": [
    {
     "name": "stdout",
     "output_type": "stream",
     "text": [
      "Sum of all numbers upto  10 :  55\n"
     ]
    }
   ],
   "source": [
    "def sum(n):\n",
    "    if(n==0):\n",
    "        return 0\n",
    "    else:\n",
    "        return n+sum(n-1)\n",
    "num=(int)(input(\"Enter the number: \"))\n",
    "print(\"Sum of all numbers upto \",num,\": \",sum(num))"
   ]
  },
  {
   "cell_type": "code",
   "execution_count": 8,
   "metadata": {},
   "outputs": [
    {
     "name": "stdout",
     "output_type": "stream",
     "text": [
      "Sum of  51  and  49  is  100\n"
     ]
    }
   ],
   "source": [
    "a=(int)(input(\"Enter the first number: \"))\n",
    "b=(int)(input(\"Enter the second number: \"))\n",
    "s= lambda a,b:a+b\n",
    "print(\"Sum of \",a,\" and \",b,\" is \",s(a,b))"
   ]
  },
  {
   "cell_type": "code",
   "execution_count": 9,
   "metadata": {},
   "outputs": [
    {
     "name": "stdout",
     "output_type": "stream",
     "text": [
      "Enter two numbers: \n",
      "Greater number is  64\n"
     ]
    }
   ],
   "source": [
    "print(\"Enter two numbers: \")\n",
    "r=(lambda a,b: a if a>b else b)((int(input())),(int(input())))\n",
    "print(\"Greater number is \",r)"
   ]
  },
  {
   "cell_type": "code",
   "execution_count": 11,
   "metadata": {},
   "outputs": [
    {
     "name": "stdout",
     "output_type": "stream",
     "text": [
      "Factorial of  5  is  120\n"
     ]
    }
   ],
   "source": [
    "def fact(n):\n",
    "    if(n==0):\n",
    "        return 1\n",
    "    else:\n",
    "        return n*fact(n-1)\n",
    "num=(int)(input(\"Enter the number: \"))\n",
    "print(\"Factorial of \",num,\" is \",fact(num))"
   ]
  },
  {
   "cell_type": "code",
   "execution_count": 12,
   "metadata": {},
   "outputs": [
    {
     "name": "stdout",
     "output_type": "stream",
     "text": [
      "Factorial of  5  is  120\n"
     ]
    }
   ],
   "source": [
    "num=(int)(input(\"Enter the number: \"))\n",
    "s=lambda a:1 if a==0 else a*s(a-1)\n",
    "print(\"Factorial of \",num,\" is \",s(num))"
   ]
  },
  {
   "cell_type": "code",
   "execution_count": null,
   "metadata": {},
   "outputs": [
    {
     "name": "stdout",
     "output_type": "stream",
     "text": [
      "Invalid division attmept\n"
     ]
    }
   ],
   "source": [
    "a=(int(input(\"Emter the first number: \")))\n",
    "b=(int(input(\"Emter the second number: \")))\n",
    "try:\n",
    "    c=a/b\n",
    "    print(\"Division result: \",a/b)\n",
    "except ZeroDivisionError:\n",
    "    print(\"Invalid division attmept\")"
   ]
  },
  {
   "cell_type": "code",
   "execution_count": null,
   "metadata": {},
   "outputs": [
    {
     "name": "stdout",
     "output_type": "stream",
     "text": [
      "\n",
      "1. Sign Up\n",
      "2. Login\n",
      "3. Display Users\n",
      "4. Delete User\n",
      "5. Exit\n",
      "\n",
      "1. Sign Up\n",
      "2. Login\n",
      "3. Display Users\n",
      "4. Delete User\n",
      "5. Exit\n",
      "Exiting...\n"
     ]
    }
   ],
   "source": [
    "import getpass\n",
    "\n",
    "# User data storage\n",
    "users = []\n",
    "\n",
    "def sign_up():\n",
    "    name = input(\"Enter your name: \")\n",
    "    email = input(\"Enter your email: \")\n",
    "    \n",
    "    # Check if email is already registered\n",
    "    if any(user['Email'] == email for user in users):\n",
    "        print(\"Email already registered. Try logging in.\")\n",
    "        return\n",
    "    \n",
    "    password = getpass.getpass(\"Enter your password: \")\n",
    "    confirm_password = getpass.getpass(\"Confirm your password: \")\n",
    "    \n",
    "    if password != confirm_password:\n",
    "        print(\"Passwords do not match. Please try again.\")\n",
    "        return\n",
    "    \n",
    "    users.append({\"Name\": name, \"Email\": email, \"Password\": password})\n",
    "    print(\"Sign-up successful!\")\n",
    "\n",
    "def login():\n",
    "    email = input(\"Enter your email: \")\n",
    "    password = getpass.getpass(\"Enter your password: \")\n",
    "    for user in users:\n",
    "        try: \n",
    "            if user['Email'] == email and user['Password'] == password:\n",
    "                print(\"Login successful!\")\n",
    "        except: \n",
    "            print(\"Invalid credentials. Try again.\")\n",
    "\n",
    "def display_users():\n",
    "    if not users:\n",
    "        print(\"No users registered yet.\")\n",
    "        return\n",
    "    \n",
    "    print(\"\\nRegistered Users:\")\n",
    "    print(\"--------------------------------\")\n",
    "    print(\"{:<20} {:<30}\".format(\"Name\", \"Email\"))\n",
    "    print(\"--------------------------------\")\n",
    "    for user in users:\n",
    "        print(\"{:<20} {:<30}\".format(user['Name'], user['Email']))\n",
    "    print(\"--------------------------------\")\n",
    "\n",
    "def delete_user():\n",
    "    email = input(\"Enter the email of the user to delete: \")\n",
    "    global users\n",
    "    \n",
    "    if any(user['Email'] == email for user in users):\n",
    "        users = [user for user in users if user['Email'] != email]\n",
    "        print(f\"User with email {email} has been deleted.\")\n",
    "    else:\n",
    "        print(\"No user found with this email.\")\n",
    "\n",
    "def main():\n",
    "    while True:\n",
    "        print(\"\\n1. Sign Up\\n2. Login\\n3. Display Users\\n4. Delete User\\n5. Exit\")\n",
    "        choice = input(\"Choose an option: \")\n",
    "        \n",
    "        if choice == \"1\":\n",
    "            sign_up()\n",
    "        elif choice == \"2\":\n",
    "            login()\n",
    "        elif choice == \"3\":\n",
    "            display_users()\n",
    "        elif choice == \"4\":\n",
    "            delete_user()\n",
    "        elif choice == \"5\":\n",
    "            print(\"Exiting...\")\n",
    "            break\n",
    "        else:\n",
    "            print(\"Invalid choice. Try again.\")\n",
    "\n",
    "if __name__ == \"__main__\":\n",
    "    main()"
   ]
  }
 ],
 "metadata": {
  "kernelspec": {
   "display_name": "Python 3",
   "language": "python",
   "name": "python3"
  },
  "language_info": {
   "codemirror_mode": {
    "name": "ipython",
    "version": 3
   },
   "file_extension": ".py",
   "mimetype": "text/x-python",
   "name": "python",
   "nbconvert_exporter": "python",
   "pygments_lexer": "ipython3",
   "version": "3.13.2"
  }
 },
 "nbformat": 4,
 "nbformat_minor": 2
}
